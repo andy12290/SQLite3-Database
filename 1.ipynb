{
 "cells": [
  {
   "cell_type": "markdown",
   "metadata": {},
   "source": [
    "* Name: Aniket Kale\n",
    "* SQLite3 tutorial\n",
    "* 27 March 2017"
   ]
  },
  {
   "cell_type": "code",
   "execution_count": 1,
   "metadata": {
    "collapsed": true
   },
   "outputs": [],
   "source": [
    "# import all libraries \n",
    "import sqlite3"
   ]
  },
  {
   "cell_type": "code",
   "execution_count": 2,
   "metadata": {
    "collapsed": false
   },
   "outputs": [],
   "source": [
    "# if database not present then it will auto matically create.\n",
    "conn = sqlite3.connect(\"tutorials.db\")\n",
    "# to point out the cusrsor like mouse.\n",
    "c = conn.cursor()"
   ]
  },
  {
   "cell_type": "code",
   "execution_count": 3,
   "metadata": {
    "collapsed": false
   },
   "outputs": [],
   "source": [
    "def create_table():\n",
    "    c.execute(\"CREATE TABLE IF NOT EXISTS Test(unix REAL, datestamp TEXT, keyword TEXT, value REAL)\")"
   ]
  },
  {
   "cell_type": "code",
   "execution_count": 4,
   "metadata": {
    "collapsed": false
   },
   "outputs": [],
   "source": [
    "def data_entry():\n",
    "    c.execute(\"INSERT INTO Test VALUES(1452549219,'2016-01-11 13:53:39','Python',6)\")\n",
    "    conn.commit()\n",
    "#    c.close()\n",
    "#    conn.close()\n",
    "#create_table()\n",
    "#data_entry()"
   ]
  },
  {
   "cell_type": "code",
   "execution_count": 5,
   "metadata": {
    "collapsed": true
   },
   "outputs": [],
   "source": [
    "# once we have created the table. no need to ran again create just copy the code and ran"
   ]
  },
  {
   "cell_type": "code",
   "execution_count": 6,
   "metadata": {
    "collapsed": true
   },
   "outputs": [],
   "source": [
    "# video number 2"
   ]
  },
  {
   "cell_type": "code",
   "execution_count": 7,
   "metadata": {
    "collapsed": true
   },
   "outputs": [],
   "source": [
    "# import libraries\n",
    "import time\n",
    "import datetime\n",
    "import random"
   ]
  },
  {
   "cell_type": "code",
   "execution_count": 8,
   "metadata": {
    "collapsed": false
   },
   "outputs": [],
   "source": [
    "# dynamic entry in table\n",
    "def dynamic_entry():    \n",
    "    unix = int(time.time())\n",
    "    date = str(datetime.datetime.fromtimestamp(unix).strftime('%Y-%m-%d %H:%M:%S'))\n",
    "    keyword = 'Python'\n",
    "    value = random.randrange(0,10)\n",
    "\n",
    "    c.execute(\"INSERT INTO Test (unix, datestamp, keyword, value) VALUES (?, ?, ?, ?)\",\n",
    "          (unix, date, keyword, value))\n",
    "\n",
    "    conn.commit()"
   ]
  },
  {
   "cell_type": "code",
   "execution_count": 9,
   "metadata": {
    "collapsed": false
   },
   "outputs": [],
   "source": [
    "# 10 time\n",
    "#for i in range(10):\n",
    "#    dynamic_entry()\n",
    "#    time.sleep(1)    "
   ]
  },
  {
   "cell_type": "code",
   "execution_count": 10,
   "metadata": {
    "collapsed": false
   },
   "outputs": [],
   "source": [
    "def read_from_db():\n",
    "    c.execute(\"SELECT * FROM Test\")\n",
    "    #data = c.fetchall()\n",
    "    #print(data)\n",
    "    for row in c.fetchall():\n",
    "        print(row)    "
   ]
  },
  {
   "cell_type": "code",
   "execution_count": 11,
   "metadata": {
    "collapsed": false
   },
   "outputs": [
    {
     "name": "stdout",
     "output_type": "stream",
     "text": [
      "(1452549219.0, '2016-01-11 13:53:39', 'Python', 6.0)\n",
      "(1490643921.0, '2017-03-27 15:45:21', 'Python', 1.0)\n",
      "(1490643922.0, '2017-03-27 15:45:22', 'Python', 5.0)\n",
      "(1490643923.0, '2017-03-27 15:45:23', 'Python', 4.0)\n",
      "(1490643924.0, '2017-03-27 15:45:24', 'Python', 7.0)\n",
      "(1490643925.0, '2017-03-27 15:45:25', 'Python', 6.0)\n",
      "(1490643926.0, '2017-03-27 15:45:26', 'Python', 7.0)\n",
      "(1490643927.0, '2017-03-27 15:45:27', 'Python', 0.0)\n",
      "(1490643928.0, '2017-03-27 15:45:28', 'Python', 3.0)\n",
      "(1490643929.0, '2017-03-27 15:45:29', 'Python', 9.0)\n",
      "(1490643930.0, '2017-03-27 15:45:30', 'Python', 1.0)\n",
      "(1490647690.0, '2017-03-27 16:48:10', 'Python', 5.0)\n",
      "(1490647691.0, '2017-03-27 16:48:11', 'Python', 1.0)\n",
      "(1490647692.0, '2017-03-27 16:48:12', 'Python', 3.0)\n",
      "(1490647693.0, '2017-03-27 16:48:13', 'Python', 9.0)\n",
      "(1490647694.0, '2017-03-27 16:48:14', 'Python', 8.0)\n",
      "(1490647695.0, '2017-03-27 16:48:15', 'Python', 2.0)\n",
      "(1490647696.0, '2017-03-27 16:48:16', 'Python', 2.0)\n",
      "(1490647697.0, '2017-03-27 16:48:17', 'Python', 2.0)\n",
      "(1490647698.0, '2017-03-27 16:48:18', 'Python', 1.0)\n",
      "(1490647699.0, '2017-03-27 16:48:19', 'Python', 1.0)\n",
      "(1490647836.0, '2017-03-27 16:50:36', 'Python', 5.0)\n",
      "(1490647837.0, '2017-03-27 16:50:37', 'Python', 0.0)\n",
      "(1490647838.0, '2017-03-27 16:50:38', 'Python', 5.0)\n",
      "(1490647839.0, '2017-03-27 16:50:39', 'Python', 9.0)\n",
      "(1490647840.0, '2017-03-27 16:50:40', 'Python', 9.0)\n",
      "(1490647841.0, '2017-03-27 16:50:41', 'Python', 5.0)\n",
      "(1490647842.0, '2017-03-27 16:50:42', 'Python', 8.0)\n",
      "(1490647843.0, '2017-03-27 16:50:43', 'Python', 1.0)\n",
      "(1490647844.0, '2017-03-27 16:50:44', 'Python', 2.0)\n",
      "(1490647845.0, '2017-03-27 16:50:45', 'Python', 3.0)\n",
      "(1490651897.0, '2017-03-27 17:58:17', 'Python', 1.0)\n",
      "(1490651898.0, '2017-03-27 17:58:18', 'Python', 4.0)\n",
      "(1490651899.0, '2017-03-27 17:58:19', 'Python', 3.0)\n",
      "(1490651900.0, '2017-03-27 17:58:20', 'Python', 6.0)\n",
      "(1490651901.0, '2017-03-27 17:58:21', 'Python', 9.0)\n",
      "(1490651902.0, '2017-03-27 17:58:22', 'Python', 4.0)\n",
      "(1490651903.0, '2017-03-27 17:58:23', 'Python', 2.0)\n",
      "(1490651904.0, '2017-03-27 17:58:24', 'Python', 0.0)\n",
      "(1490651905.0, '2017-03-27 17:58:25', 'Python', 2.0)\n",
      "(1490651906.0, '2017-03-27 17:58:26', 'Python', 0.0)\n",
      "(1490653423.0, '2017-03-27 18:23:43', 'Python', 3.0)\n",
      "(1490653424.0, '2017-03-27 18:23:44', 'Python', 0.0)\n",
      "(1490653425.0, '2017-03-27 18:23:45', 'Python', 0.0)\n",
      "(1490653426.0, '2017-03-27 18:23:46', 'Python', 8.0)\n",
      "(1490653427.0, '2017-03-27 18:23:47', 'Python', 5.0)\n",
      "(1490653428.0, '2017-03-27 18:23:48', 'Python', 3.0)\n",
      "(1490653429.0, '2017-03-27 18:23:49', 'Python', 0.0)\n",
      "(1490653430.0, '2017-03-27 18:23:50', 'Python', 2.0)\n",
      "(1490653431.0, '2017-03-27 18:23:51', 'Python', 2.0)\n",
      "(1490653432.0, '2017-03-27 18:23:52', 'Python', 1.0)\n",
      "(1490653474.0, '2017-03-27 18:24:34', 'Python', 8.0)\n",
      "(1490653475.0, '2017-03-27 18:24:35', 'Python', 2.0)\n",
      "(1490653476.0, '2017-03-27 18:24:36', 'Python', 0.0)\n",
      "(1490653477.0, '2017-03-27 18:24:37', 'Python', 3.0)\n",
      "(1490653478.0, '2017-03-27 18:24:38', 'Python', 7.0)\n",
      "(1490653479.0, '2017-03-27 18:24:39', 'Python', 5.0)\n",
      "(1490653480.0, '2017-03-27 18:24:40', 'Python', 7.0)\n",
      "(1490653481.0, '2017-03-27 18:24:41', 'Python', 2.0)\n",
      "(1490653482.0, '2017-03-27 18:24:42', 'Python', 1.0)\n",
      "(1490653483.0, '2017-03-27 18:24:43', 'Python', 4.0)\n"
     ]
    }
   ],
   "source": [
    "read_from_db()"
   ]
  },
  {
   "cell_type": "code",
   "execution_count": 12,
   "metadata": {
    "collapsed": false
   },
   "outputs": [
    {
     "data": {
      "text/plain": [
       "[(61,)]"
      ]
     },
     "execution_count": 12,
     "metadata": {},
     "output_type": "execute_result"
    }
   ],
   "source": [
    "c.execute(\"SELECT COUNT(*) FROM TEST\")\n",
    "c.fetchall()"
   ]
  },
  {
   "cell_type": "markdown",
   "metadata": {},
   "source": [
    "# Video 4"
   ]
  },
  {
   "cell_type": "code",
   "execution_count": 13,
   "metadata": {
    "collapsed": true
   },
   "outputs": [],
   "source": [
    "import matplotlib.pyplot as plt\n",
    "% matplotlib inline\n",
    "from matplotlib import style\n",
    "from dateutil import parser\n",
    "import matplotlib.dates as mdates\n",
    "style.use(\"fivethirtyeight\")"
   ]
  },
  {
   "cell_type": "code",
   "execution_count": 14,
   "metadata": {
    "collapsed": false
   },
   "outputs": [],
   "source": [
    "# define function to write the and plot the graph.\n",
    "\n",
    "def graph_data():\n",
    "    c.execute(\"SELECT datestamp, value from Test\")   \n",
    "    dat = []\n",
    "    vale = []\n",
    "    for row in c.fetchall():\n",
    "         dat.append(parser.parse(row[0]))\n",
    "         vale.append(row[1])"
   ]
  },
  {
   "cell_type": "code",
   "execution_count": 15,
   "metadata": {
    "collapsed": false
   },
   "outputs": [],
   "source": [
    "#graph_data()\n",
    "#plt.plot_date(dat, vale, \"-\")\n",
    "#plt.show()"
   ]
  },
  {
   "cell_type": "code",
   "execution_count": 16,
   "metadata": {
    "collapsed": false
   },
   "outputs": [
    {
     "data": {
      "text/plain": [
       "<sqlite3.Cursor at 0x1041e3340>"
      ]
     },
     "execution_count": 16,
     "metadata": {},
     "output_type": "execute_result"
    }
   ],
   "source": [
    "c.execute(\"SELECT datestamp,value FROM Test\")"
   ]
  },
  {
   "cell_type": "raw",
   "metadata": {},
   "source": [
    "c.fetchall()"
   ]
  },
  {
   "cell_type": "code",
   "execution_count": 17,
   "metadata": {
    "collapsed": false
   },
   "outputs": [],
   "source": [
    "dat = []\n",
    "val = []\n",
    "for row in c.fetchall():\n",
    "    dat.append(parser.parse(row[0]))\n",
    "    val.append(row[1])"
   ]
  },
  {
   "cell_type": "code",
   "execution_count": 18,
   "metadata": {
    "collapsed": false
   },
   "outputs": [
    {
     "data": {
      "image/png": "[encoded data removed]",
      "text/plain": [
       "<matplotlib.figure.Figure at 0x10a6fc2b0>"
      ]
     },
     "metadata": {},
     "output_type": "display_data"
    }
   ],
   "source": [
    "plt.plot_date(dat, val, \"-\")\n",
    "plt.show()"
   ]
  },
  {
   "cell_type": "code",
   "execution_count": 19,
   "metadata": {
    "collapsed": true
   },
   "outputs": [],
   "source": [
    "# we can print the values of dates here."
   ]
  }
 ],
 "metadata": {
  "anaconda-cloud": {},
  "kernelspec": {
   "display_name": "Python [Root]",
   "language": "python",
   "name": "Python [Root]"
  },
  "language_info": {
   "codemirror_mode": {
    "name": "ipython",
    "version": 3
   },
   "file_extension": ".py",
   "mimetype": "text/x-python",
   "name": "python",
   "nbconvert_exporter": "python",
   "pygments_lexer": "ipython3",
   "version": "3.5.2"
  }
 },
 "nbformat": 4,
 "nbformat_minor": 0
}
